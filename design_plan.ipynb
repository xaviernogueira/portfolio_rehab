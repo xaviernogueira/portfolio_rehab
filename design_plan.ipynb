{
 "cells": [
  {
   "cell_type": "markdown",
   "id": "1b7f4beb-0559-4f03-8d2e-12275591abcf",
   "metadata": {},
   "source": [
    "## **Portfolio Rehab:** An automated portfolio risk analyser w/ stock pic recomendations\n",
    "\n",
    "Create a Jupyter notebook that outputs"
   ]
  },
  {
   "cell_type": "markdown",
   "id": "26828563-247d-4862-a371-af5528c83227",
   "metadata": {},
   "source": [
    "## **Pitch:**\n",
    "- You are a long term invester who prefers to buy and hold positions \n",
    "- You like your positions, but are aware of the risks associated with the elevated prices in a the current frothy market environment\n",
    "- You want insight into portfolio risks, and stategies to mitigate or hedge said risk to facilitate quality long term returns\n",
    "- You do not want to pay for expensive, monthly programs and would rather invest in a one time analysis report of your portfolio"
   ]
  },
  {
   "cell_type": "markdown",
   "id": "3bbf1d32-232c-497f-aace-daccf441e0d3",
   "metadata": {},
   "source": [
    "## **Inputs:**\n",
    "* Stock portfolio: tickers, holding volume, average price\n",
    "* Time horizon \n",
    "* Risk tolerance (Low / near retirement or sell point, medium / typical invester with stable income. high / higher income expected in the future)\n",
    "* Desired average annual return over the time horizon\n",
    "* % current margin use\n",
    "* Avoidance options: No fossil fuels, no China stocks, etc."
   ]
  },
  {
   "cell_type": "markdown",
   "id": "9c5e26fe-a741-4f85-9f0c-bca2d9f72c6e",
   "metadata": {},
   "source": [
    "# **Risk analysis components:**"
   ]
  },
  {
   "cell_type": "markdown",
   "id": "51a28ec4-959c-4ee8-8677-e5fe2f437989",
   "metadata": {},
   "source": [
    "### **Correlation analysis**\n",
    "#### Inputs\n",
    "- Pull time 5yr price time series, or the longest length in the portfolio\n",
    "    * Note: This will not work as well for IPOs... exclude outliers more than X Stds from the next shortest time series (mention in output)   \n",
    "    \n",
    "#### Outputs\n",
    "- Output matrix into report\n",
    "- Associate correlation coefficient ranges to risk label, and recomendations\n",
    "    * What % of equity is highly correlated, % somewhat correlated, % not correlated, % inversely correlated, % strongly inversely correlated\n",
    "- Save arrays and use for recomendation algorithm at the end"
   ]
  },
  {
   "cell_type": "markdown",
   "id": "e52d1b3a-4456-477d-a21e-617cb8d4648f",
   "metadata": {},
   "source": [
    "### **Intrest rates risk analysis**\n",
    "#### Inputs\n",
    "- Calculate P/E, P/S, CAPE distribution in the portoflio\n",
    "- Calculate averages weighted by equity for the above values \n",
    "- Pull historic P/E, P/S, and CAPE where available and calculate correlation with intrest rates / liquidity \n",
    "\n",
    "#### Outputs\n",
    "- To what degree are position valuations negatively correlated with US treasury intrest rates\n",
    "    * How does correlation coefficient and R^2 compare to S&P broadly \n",
    "    * Describe comparison to market as well as correlation qualititively in a string output\n",
    "    * Make graphs showing P/E, P/S overlayed w/ intrest rates\n",
    "- To what degree are average valuations predicted to mean revert, compare to sector means as well as market means via standard deviations"
   ]
  },
  {
   "cell_type": "markdown",
   "id": "a016ff22-065d-4b43-a8e5-52702ef8d6b8",
   "metadata": {},
   "source": [
    "### **Discounted Cash flow analysis**\n",
    "Here we apply Sven's discounted cash flow model using the\n",
    "\n",
    "#### Inputs\n",
    "- User: Desired annualized return / discount rate\n",
    "- User: Time horizon (T)\n",
    "- Historic terminal multiple series -- Used to calculate probability of different terminal multiple scenarios\n",
    "- Recent earnings (quaterly and annuals) \n",
    "- Anything else in Sven's model...\n",
    "\n",
    "Fit decay curve (exponential) to annual revenue and earnings growth to estimate future growth rates within time horizon\n",
    "\n",
    "#### Outputs\n",
    "- Estimated fair value for desired return after T in optimistic, middle, and pessimistic scenarios. As well as weighted average.\n",
    "- If estimated returns are lower that expected (i.e. value after DCF analysis is less tha\n",
    "\n",
    "\n",
    "\n"
   ]
  },
  {
   "cell_type": "code",
   "execution_count": null,
   "id": "d1b9e98c-10ee-46cf-b68f-e0cd6af74ae5",
   "metadata": {},
   "outputs": [],
   "source": []
  }
 ],
 "metadata": {
  "kernelspec": {
   "display_name": "Python 3",
   "language": "python",
   "name": "python3"
  },
  "language_info": {
   "codemirror_mode": {
    "name": "ipython",
    "version": 3
   },
   "file_extension": ".py",
   "mimetype": "text/x-python",
   "name": "python",
   "nbconvert_exporter": "python",
   "pygments_lexer": "ipython3",
   "version": "3.7.6"
  }
 },
 "nbformat": 4,
 "nbformat_minor": 5
}
