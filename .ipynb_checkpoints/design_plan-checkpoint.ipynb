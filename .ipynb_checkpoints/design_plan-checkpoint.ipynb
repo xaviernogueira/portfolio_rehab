{
 "cells": [
  {
   "cell_type": "markdown",
   "id": "2f39fe4d",
   "metadata": {},
   "source": [
    "## **Portfolio Rehab:** An automated portfolio risk analyzer w/ stock pic recomendations\n",
    "\n",
    "Create a Jupyter notebook that outputs"
   ]
  },
  {
   "cell_type": "markdown",
   "id": "f7847ca4",
   "metadata": {},
   "source": [
    "## **Pitch:**\n",
    "- You are a long term invester who prefers to buy and hold positions \n",
    "- You like your positions, but are aware of the risks associated with the elevated prices in a the current frothy market environment\n",
    "- You want insight into portfolio risks, and stategies to mitigate or hedge said risk to facilitate quality long term returns\n",
    "- You do not want to pay for expensive, monthly programs and would rather invest in a one time analysis report of your portfolio"
   ]
  },
  {
   "cell_type": "markdown",
   "id": "904b0bad",
   "metadata": {},
   "source": [
    "## **Inputs:**\n",
    "* Stock portfolio: tickers, holding volume, average price\n",
    "* Time horizon \n",
    "* Risk tolerance (Low / near retirement or sell point, medium / typical invester with stable income. high / higher income expected in the future)\n",
    "* Desired average annual return over the time horizon\n",
    "* % current margin use\n",
    "* Avoidance options: No fossil fuels, no China stocks, etc."
   ]
  },
  {
   "cell_type": "markdown",
   "id": "21fc2382",
   "metadata": {},
   "source": [
    "# **Risk analysis components:**"
   ]
  },
  {
   "cell_type": "markdown",
   "id": "6e12453f",
   "metadata": {},
   "source": [
    "### **Correlation analysis**\n",
    "#### Inputs\n",
    "- Pull time 5yr price time series, or the longest length in the portfolio\n",
    "    * Note: This will not work as well for IPOs... exclude outliers more than X Stds from the next shortest time series (mention in output)   \n",
    "    \n",
    "#### Outputs\n",
    "- Output matrix into report\n",
    "- Associate correlation coefficient ranges to risk label, and recomendations\n",
    "    * What % of equity is highly correlated, % somewhat correlated, % not correlated, % inversely correlated, % strongly inversely correlated\n",
    "- Save arrays and use for recomendation algorithm at the end"
   ]
  },
  {
   "cell_type": "markdown",
   "id": "9c992395",
   "metadata": {},
   "source": [
    "### **Intrest rates risk analysis**\n",
    "#### Inputs\n",
    "- Calculate P/E, P/S, CAPE distribution in the portoflio\n",
    "- Calculate averages weighted by equity for the above values \n",
    "- Pull historic P/E, P/S, and CAPE where available and calculate correlation with intrest rates / liquidity \n",
    "\n",
    "#### Outputs\n",
    "- To what degree are position valuations negatively correlated with US treasury intrest rates\n",
    "    * How does correlation coefficient and R^2 compare to S&P broadly \n",
    "    * Describe comparison to market as well as correlation qualititively in a string output\n",
    "    * Make graphs showing P/E, P/S overlayed w/ intrest rates\n",
    "- To what degree are average valuations predicted to mean revert, compare to sector means as well as market means via standard deviations"
   ]
  },
  {
   "cell_type": "markdown",
   "id": "451293ce",
   "metadata": {},
   "source": [
    "### **Discounted Cash Flow (DCF) analysis**\n",
    "Here we apply Sven's discounted cash flow model using the\n",
    "\n",
    "#### Inputs\n",
    "- User: Desired annualized return / discount rate\n",
    "- User: Time horizon (T)\n",
    "- Historic terminal multiple series -- Used to calculate probability of different terminal multiple scenarios\n",
    "- Recent earnings (quaterly and annuals) \n",
    "- Anything else in Sven's model...\n",
    "\n",
    "Fit decay curve (exponential) to annual revenue and earnings growth to estimate future growth rates within time horizon\n",
    "\n",
    "#### Outputs\n",
    "- Estimated fair value for desired return after T in optimistic, middle, and pessimistic scenarios. As well as weighted average.\n",
    "- If estimated returns are lower that expected (i.e. value after DCF analysis is less tha\n",
    "\n",
    "\n",
    "\n"
   ]
  },
  {
   "cell_type": "code",
   "execution_count": 57,
   "id": "5ab00d38",
   "metadata": {},
   "outputs": [],
   "source": [
    "# Import dependencies\n",
    "import matplotlib.pyplot as plt\n",
    "import scipy \n",
    "from scipy.optimize import curve_fit\n",
    "import scipy.stats as stats\n",
    "import pandas as pd\n",
    "import numpy as np\n",
    "\n",
    "import FundamentalAnalysis as fa\n",
    "import analysis_functions\n",
    "from analysis_functions import *"
   ]
  },
  {
   "cell_type": "markdown",
   "id": "41f7aee3-9f82-49af-9b65-192e85d43656",
   "metadata": {},
   "source": [
    "### Load in net income data for a given ticker"
   ]
  },
  {
   "cell_type": "code",
   "execution_count": 59,
   "id": "89325c42",
   "metadata": {},
   "outputs": [],
   "source": [
    "ticker = \"AAPL\"\n",
    "api_key = \"7dead7d8a15b90bbadab8eeedfa59bd0\"\n",
    "last_year = 2020\n",
    "\n",
    "grab_data = False\n",
    "\n",
    "if grab_data == True:\n",
    "    cash_flow_statement_annually = fa.cash_flow_statement(ticker, api_key, period=\"annual\")\n",
    "    cash_flow = cash_flow_statement_annually.transpose()\n",
    "    cash_flow = cash_flow.rename_axis('year')\n",
    "    cash_flow.to_csv(r'C:\\Users\\xavie\\Portfolio_Rehab\\test_data\\%s_cash_flow.csv' % ticker)\n",
    "    \n",
    "else:\n",
    "    cash_flow = pd.read_csv(r'C:\\Users\\xavie\\Portfolio_Rehab\\test_data\\%s_cash_flow.csv' % ticker)\n",
    "\n",
    "revenue_np = cash_flow['netIncome'].to_numpy()"
   ]
  },
  {
   "cell_type": "markdown",
   "id": "ecd92dcc-3a1c-42e7-8b51-3412c7c63f0e",
   "metadata": {},
   "source": [
    "### Gain insight into 10 yr historical income growth (update to work with shorter life stocks)"
   ]
  },
  {
   "cell_type": "code",
   "execution_count": 71,
   "id": "a12d8d33",
   "metadata": {},
   "outputs": [
    {
     "data": {
      "application/vnd.jupyter.widget-view+json": {
       "model_id": "61651a26764c410ba1856470d7cbab9c",
       "version_major": 2,
       "version_minor": 0
      },
      "text/plain": [
       "Canvas(toolbar=Toolbar(toolitems=[('Home', 'Reset original view', 'home', 'home'), ('Back', 'Back to previous …"
      ]
     },
     "metadata": {},
     "output_type": "display_data"
    },
    {
     "name": "stdout",
     "output_type": "stream",
     "text": [
      "Annual growth mean for 2012 to 2017: 15.425081467765938\n",
      "Annual growth mean for 2017 to 2020: 6.418114895858314\n",
      "5 year growth reduction percent: 58.3916953095492\n",
      "[3.7476460946063774, 2.1883140888427755]\n"
     ]
    }
   ],
   "source": [
    "%matplotlib widget\n",
    "x = np.arange(last_year, last_year - 10, -1)\n",
    "y = revenue_np[:10]\n",
    "\n",
    "x_inc = x[::-1][1:] # Years increasing\n",
    "growth = []\n",
    "\n",
    "for i in range(len(y) - 1):\n",
    "    rate = ((y[i] - y[i + 1]) / y[i + 1]) * 100\n",
    "    growth.append(rate)\n",
    "\n",
    "growth_inc = growth.reverse() # Growth rate by year increasing   \n",
    "growth_array = np.array(growth)\n",
    "mean_growth = np.mean(growth_array)\n",
    "\n",
    "# Plot\n",
    "plt.plot(x_inc, growth_array)\n",
    "plt.hlines(mean_growth, xmin=x_inc[0], xmax=x_inc[-1], label='Mean growth rate percent = %s' % round(mean_growth, 2))\n",
    "plt.xlabel('Year')\n",
    "plt.ylabel('% annual revenue growth from previous year')\n",
    "plt.grid()\n",
    "plt.legend()\n",
    "\n",
    "first = growth_array[:5].mean()\n",
    "second = growth_array[5:].mean()\n",
    "print('Annual growth mean for %s to %s: %s' % (x_inc[0], x_inc[5], first))\n",
    "print('Annual growth mean for %s to %s: %s' % (x_inc[5], x_inc[-1], second))\n",
    "\n",
    "\n",
    "drops = ((first - second) / first)\n",
    "drops_percent = drops * 100\n",
    "print('5 year growth reduction percent: %s' % drops_percent )\n",
    "\n",
    "future_rates = [second * drops, second * drops**2] # [0-5 year growth rate, 5-10 year growth rate]\n",
    "print(future_rates)"
   ]
  },
  {
   "cell_type": "markdown",
   "id": "f14b9150-3221-4e10-82c4-8570f556ebfb",
   "metadata": {},
   "source": [
    "## **Discounted cash flow valuation model** "
   ]
  },
  {
   "cell_type": "markdown",
   "id": "922ea81f-1847-45be-8ea8-1c71bcb32e12",
   "metadata": {},
   "source": [
    "Upload historic p/e data csv and pull current quote"
   ]
  },
  {
   "cell_type": "code",
   "execution_count": 80,
   "id": "6bccb044",
   "metadata": {},
   "outputs": [
    {
     "name": "stdout",
     "output_type": "stream",
     "text": [
      "Current AAPL price: 145.86\n"
     ]
    }
   ],
   "source": [
    "# Test w/ AAPL data!\n",
    "pe_data = r'C:\\Users\\xavie\\Portfolio_Rehab\\test_data\\aapl_pe_test.csv'\n",
    "\n",
    "# Pull up to date stock values\n",
    "quote_df = fa.quote(ticker, api_key)\n",
    "quote_df = quote_df.transpose()\n",
    "\n",
    "price = quote_df['price'].to_numpy()[0]\n",
    "market_cap = quote_df['marketCap'].to_numpy()[0]\n",
    "shares = market_cap / price\n",
    "\n",
    "print('Current %s price: %s' % (ticker, price))"
   ]
  },
  {
   "cell_type": "code",
   "execution_count": 81,
   "id": "4b95ae1a",
   "metadata": {},
   "outputs": [],
   "source": [
    "def discounted_cash_value(cash_flow, discount_rate, time_horizon, growth_rates, pe_data, pe_scenarios, optimism='low'):\n",
    "    \"\"\" This function automated Sven Carlin's discounted cash flow and outputs an intrinsic value based on optimism\n",
    "    and a modeled growth rate curve.\n",
    "    Inputs: Current cash flow, discount rate aka desired annualized return (float, percent), time_horizon in years (int),\n",
    "    a curve of length len(time_horizon) modeling future growth rates, an array storing historic P/E ratios that is used\n",
    "    to calculate the range of pe_values, optimism (str) either low, medium, or high (effects scenario probabilities)\"\"\"\n",
    "\n",
    "    opt_strs = []\n",
    "\n",
    "    # Define scenario outcome probabilities for terminal multiple\n",
    "    if optimism == 'low':\n",
    "        probs = [0.3, 0.6, 0.1]  # Worst case, medium case, best case\n",
    "\n",
    "    elif optimism == 'medium':\n",
    "        probs = [0.2, 0.6, 0.2]  # Worst case, medium case, best case\n",
    "\n",
    "    elif optimism == 'high':\n",
    "        probs = [0.1, 0.6, 0.3]  # Worst case, medium case, best case\n",
    "\n",
    "    else:\n",
    "        print('Optimism parameter error: must be low, medium, or high')\n",
    "\n",
    "    # Generate a forecasted growth rate curve\n",
    "    scenarios = ['pessimistic', 'medium', 'optimistic']\n",
    "    \n",
    "    # Calculate instrinsic value for each scenario\n",
    "    values = [] # Stores the value for each scenario\n",
    "    \n",
    "    for i, scene in enumerate(scenarios):\n",
    "        future_flow = [] # Stores the estimate future cash flows for each scenario\n",
    "        future_pv = [] # Stores estimate PV values for each scenario\n",
    "    \n",
    "        term_pe = pe_scenarios[i]\n",
    "        \n",
    "        for j, t in enumerate(range(0, time_horizon)):\n",
    "            if j <= 4:\n",
    "                rate = growth_rates[0]\n",
    "            else:\n",
    "                rate = growth_rates[1]\n",
    "                \n",
    "            if scene is 'optimistic':\n",
    "                rate = rate * 2\n",
    "            \n",
    "            if j == 0:\n",
    "                future_val = cash_flow * (1 + (rate / 100))\n",
    "                \n",
    "            else:\n",
    "                future_val = future_flow[j - 1] * (1 + (rate / 100))\n",
    "\n",
    "            future_flow.append(future_val)\n",
    "            \n",
    "            exp = -t - 1\n",
    "            pv = future_val * ((1 + discount_rate)**(exp))\n",
    "            future_pv.append(pv)\n",
    "        \n",
    "        terminal_value = future_flow[-1] * term_pe\n",
    "        term_pv = terminal_value * ((1 + discount_rate)**(exp))\n",
    "        future_pv.append(term_pv)\n",
    "        \n",
    "        values.append(sum(future_pv)) # FIGURE \n",
    "        \n",
    "    # Calculate weighted instrinsic value by optimism level\n",
    "    final_val = 0\n",
    "    for i, value in enumerate(values):\n",
    "        final_val += (value * probs[i])\n",
    "    \n",
    "    # Returns a list storing the optimism weighted average instrinsic value, and another list storing each scenario value\n",
    "    return [final_val, values] "
   ]
  },
  {
   "cell_type": "code",
   "execution_count": 82,
   "id": "cbb1edeb",
   "metadata": {},
   "outputs": [
    {
     "name": "stdout",
     "output_type": "stream",
     "text": [
      "Historic P/E value array:\n",
      "[38.23 35.95 27.37 35.82 35.35 27.55 19.76 22.92 18.62 16.56 15.62 12.63\n",
      " 18.45 16.23 15.6  16.68 16.01 15.58 15.93 13.09 12.84 10.43 11.26 10.32\n",
      " 10.99 13.26 14.02 13.51 14.16 13.5  11.47 12.37 10.64  8.7   9.22 10.47\n",
      " 13.04 11.8  12.57  9.92 11.85 11.43 14.28 15.49 16.1  17.54 19.87 20.92\n",
      " 21.22 17.62 13.31 11.97 18.24 28.17 25.54 37.76 34.   30.08 25.61 26.53]\n",
      "\n",
      "Pessimistic, medium, and optimistic terminal multiple values\n",
      "[10.195359855957339, 18.099499999999995, 33.907780288085306]\n"
     ]
    }
   ],
   "source": [
    "if pe_data[-4:] == '.csv':\n",
    "        pe_df = pd.read_csv(pe_data)\n",
    "        pe_array = pe_df['pe_ratio'].to_numpy()\n",
    "\n",
    "else:\n",
    "    pe_array = pe_data\n",
    "\n",
    "print('Historic P/E value array:')\n",
    "print(pe_array)\n",
    "\n",
    "mean_val = np.nanmean(pe_array)\n",
    "std_val = np.nanstd(pe_array)\n",
    "\n",
    "optimist = mean_val + (2 * std_val)\n",
    "pessimist = mean_val - std_val\n",
    "\n",
    "scenario_pe = [pessimist, mean_val, optimist]\n",
    "\n",
    "print()\n",
    "print('Pessimistic, medium, and optimistic terminal multiple values')\n",
    "print(scenario_pe)"
   ]
  },
  {
   "cell_type": "code",
   "execution_count": 83,
   "id": "7fa0e5bb",
   "metadata": {},
   "outputs": [
    {
     "name": "stdout",
     "output_type": "stream",
     "text": [
      "Desired annualized return is 5.0 percent\n"
     ]
    },
    {
     "data": {
      "application/vnd.jupyter.widget-view+json": {
       "model_id": "73af92ea3be74f3d911a399e762c98a6",
       "version_major": 2,
       "version_minor": 0
      },
      "text/plain": [
       "Canvas(toolbar=Toolbar(toolitems=[('Home', 'Reset original view', 'home', 'home'), ('Back', 'Back to previous …"
      ]
     },
     "metadata": {},
     "output_type": "display_data"
    }
   ],
   "source": [
    "%matplotlib widget\n",
    "\n",
    "test_rates = [i for i in range(1, 15)]\n",
    "scenarios = ['low', 'medium', 'high']\n",
    "desired_rate = 0.05\n",
    "print('Desired annualized return is %s percent' % round(float(desired_rate * 100), 2))\n",
    "labels = ['Pessimistic', 'Neutral', 'Optimistic']\n",
    "prices = []\n",
    "\n",
    "for i, opt in enumerate(scenarios):\n",
    "    comps = []\n",
    "    price_sub = []\n",
    "    for initial in test_rates:\n",
    "        rates = [initial, initial / 2]\n",
    "        out = discounted_cash_value(revenue_np[0], desired_rate, 10, rates, pe_data, scenario_pe, optimism=opt)\n",
    "        i_price = float(out[0] / shares) # Intrinsic value share price\n",
    "        price_sub.append(i_price)\n",
    "        comp = ((out[0] - market_cap) / aapl_mc) * 100\n",
    "        comps.append(comp)\n",
    "\n",
    "    comps_np = np.asarray(comps)\n",
    "    initial_np = np.asarray(test_rates)\n",
    "    plt.plot(initial_np, comps_np, label=labels[i])\n",
    "    plt.legend()\n",
    "    plt.grid()\n",
    "    plt.hlines(0, xmin=np.min(initial_np), xmax=np.max(initial_np))\n",
    "    plt.xlabel('Initial growth rate %, halves after 5 years')\n",
    "    plt.ylabel('Intrinsic value percent +/- current value for return')\n",
    "    plt.xlim(np.min(initial_np), np.max(initial_np))\n",
    "    \n",
    "    prices.append(price_sub)\n",
    "\n",
    "\n",
    "# Make plot again and figure out how to make a clean git commit."
   ]
  },
  {
   "cell_type": "code",
   "execution_count": 84,
   "id": "76c6b604",
   "metadata": {},
   "outputs": [
    {
     "data": {
      "application/vnd.jupyter.widget-view+json": {
       "model_id": "827428cb781d4b428e1b3e5438c69bb5",
       "version_major": 2,
       "version_minor": 0
      },
      "text/plain": [
       "Canvas(toolbar=Toolbar(toolitems=[('Home', 'Reset original view', 'home', 'home'), ('Back', 'Back to previous …"
      ]
     },
     "metadata": {},
     "output_type": "display_data"
    }
   ],
   "source": [
    "%matplotlib widget\n",
    "\n",
    "for i, sub in enumerate(prices):\n",
    "    price_np = np.asarray(sub)\n",
    "\n",
    "    plt.plot(initial_np, price_np, label=labels[i])\n",
    "    if i == 1:\n",
    "        plt.hlines(price, xmin=np.min(initial_np), xmax=np.max(initial_np), label='Current price')\n",
    "    plt.legend()\n",
    "    plt.grid()\n",
    "    plt.xlabel('Initial growth rate %, halves after 5 years')\n",
    "    plt.ylabel('Fair price for %s percent annual return' % round(float(desired_rate * 100), 2))\n",
    "    plt.xlim(np.min(initial_np), np.max(initial_np))"
   ]
  },
  {
   "cell_type": "markdown",
   "id": "a1c95a40-aff6-46b1-af88-0486b0d221df",
   "metadata": {},
   "source": [
    "## **Intrest rates analysis**"
   ]
  },
  {
   "cell_type": "code",
   "execution_count": 87,
   "id": "179edee8-a311-4ad1-81a2-65b369073de5",
   "metadata": {},
   "outputs": [
    {
     "data": {
      "text/html": [
       "<div>\n",
       "<style scoped>\n",
       "    .dataframe tbody tr th:only-of-type {\n",
       "        vertical-align: middle;\n",
       "    }\n",
       "\n",
       "    .dataframe tbody tr th {\n",
       "        vertical-align: top;\n",
       "    }\n",
       "\n",
       "    .dataframe thead th {\n",
       "        text-align: right;\n",
       "    }\n",
       "</style>\n",
       "<table border=\"1\" class=\"dataframe\">\n",
       "  <thead>\n",
       "    <tr style=\"text-align: right;\">\n",
       "      <th></th>\n",
       "      <th>Date</th>\n",
       "      <th>pe_ratio</th>\n",
       "    </tr>\n",
       "  </thead>\n",
       "  <tbody>\n",
       "    <tr>\n",
       "      <th>59</th>\n",
       "      <td>12/31/2006</td>\n",
       "      <td>26.53</td>\n",
       "    </tr>\n",
       "    <tr>\n",
       "      <th>58</th>\n",
       "      <td>3/31/2007</td>\n",
       "      <td>25.61</td>\n",
       "    </tr>\n",
       "    <tr>\n",
       "      <th>57</th>\n",
       "      <td>6/30/2007</td>\n",
       "      <td>30.08</td>\n",
       "    </tr>\n",
       "    <tr>\n",
       "      <th>56</th>\n",
       "      <td>9/30/2007</td>\n",
       "      <td>34.00</td>\n",
       "    </tr>\n",
       "    <tr>\n",
       "      <th>55</th>\n",
       "      <td>12/31/2007</td>\n",
       "      <td>37.76</td>\n",
       "    </tr>\n",
       "  </tbody>\n",
       "</table>\n",
       "</div>"
      ],
      "text/plain": [
       "          Date  pe_ratio\n",
       "59  12/31/2006     26.53\n",
       "58   3/31/2007     25.61\n",
       "57   6/30/2007     30.08\n",
       "56   9/30/2007     34.00\n",
       "55  12/31/2007     37.76"
      ]
     },
     "execution_count": 87,
     "metadata": {},
     "output_type": "execute_result"
    }
   ],
   "source": [
    "# Load in ticker historic P/E ratio data, and flip from macro axis format\n",
    "pe_df_inc = pe_df.reindex(index=pe_df.index[::-1])\n",
    "pe_df_inc.head()"
   ]
  },
  {
   "cell_type": "code",
   "execution_count": 85,
   "id": "6a8c6769-84dc-4104-a666-47d29c612207",
   "metadata": {},
   "outputs": [
    {
     "data": {
      "text/html": [
       "<div>\n",
       "<style scoped>\n",
       "    .dataframe tbody tr th:only-of-type {\n",
       "        vertical-align: middle;\n",
       "    }\n",
       "\n",
       "    .dataframe tbody tr th {\n",
       "        vertical-align: top;\n",
       "    }\n",
       "\n",
       "    .dataframe thead th {\n",
       "        text-align: right;\n",
       "    }\n",
       "</style>\n",
       "<table border=\"1\" class=\"dataframe\">\n",
       "  <thead>\n",
       "    <tr style=\"text-align: right;\">\n",
       "      <th></th>\n",
       "      <th>DATE</th>\n",
       "      <th>rate</th>\n",
       "    </tr>\n",
       "  </thead>\n",
       "  <tbody>\n",
       "    <tr>\n",
       "      <th>0</th>\n",
       "      <td>1/1/1980</td>\n",
       "      <td>12.00</td>\n",
       "    </tr>\n",
       "    <tr>\n",
       "      <th>1</th>\n",
       "      <td>2/1/1980</td>\n",
       "      <td>12.52</td>\n",
       "    </tr>\n",
       "    <tr>\n",
       "      <th>2</th>\n",
       "      <td>3/1/1980</td>\n",
       "      <td>13.00</td>\n",
       "    </tr>\n",
       "    <tr>\n",
       "      <th>3</th>\n",
       "      <td>4/1/1980</td>\n",
       "      <td>13.00</td>\n",
       "    </tr>\n",
       "    <tr>\n",
       "      <th>4</th>\n",
       "      <td>5/1/1980</td>\n",
       "      <td>12.94</td>\n",
       "    </tr>\n",
       "  </tbody>\n",
       "</table>\n",
       "</div>"
      ],
      "text/plain": [
       "       DATE   rate\n",
       "0  1/1/1980  12.00\n",
       "1  2/1/1980  12.52\n",
       "2  3/1/1980  13.00\n",
       "3  4/1/1980  13.00\n",
       "4  5/1/1980  12.94"
      ]
     },
     "execution_count": 85,
     "metadata": {},
     "output_type": "execute_result"
    }
   ],
   "source": [
    "# Load in historic US Treasury intrest rates\n",
    "intrest_df = pd.read_csv(r'C:\\Users\\xavie\\Portfolio_Rehab\\test_data\\intrest_rates.csv')\n",
    "intrest_df.head()"
   ]
  },
  {
   "cell_type": "code",
   "execution_count": null,
   "id": "5c85eec9-6d33-41f9-a47d-ae6c69861a51",
   "metadata": {},
   "outputs": [],
   "source": []
  }
 ],
 "metadata": {
  "kernelspec": {
   "display_name": "Python 3",
   "language": "python",
   "name": "python3"
  },
  "language_info": {
   "codemirror_mode": {
    "name": "ipython",
    "version": 3
   },
   "file_extension": ".py",
   "mimetype": "text/x-python",
   "name": "python",
   "nbconvert_exporter": "python",
   "pygments_lexer": "ipython3",
   "version": "3.7.6"
  }
 },
 "nbformat": 4,
 "nbformat_minor": 5
}
