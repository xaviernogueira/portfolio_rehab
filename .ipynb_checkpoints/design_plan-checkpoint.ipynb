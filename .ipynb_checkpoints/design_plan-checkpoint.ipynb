{
 "cells": [
  {
   "cell_type": "markdown",
   "id": "1b7f4beb-0559-4f03-8d2e-12275591abcf",
   "metadata": {},
   "source": [
    "## **Portfolio Rehab:** An automated portfolio risk analyzer w/ stock pic recomendations\n",
    "\n",
    "Create a Jupyter notebook that outputs"
   ]
  },
  {
   "cell_type": "markdown",
   "id": "26828563-247d-4862-a371-af5528c83227",
   "metadata": {},
   "source": [
    "## **Pitch:**\n",
    "- You are a long term invester who prefers to buy and hold positions \n",
    "- You like your positions, but are aware of the risks associated with the elevated prices in a the current frothy market environment\n",
    "- You want insight into portfolio risks, and stategies to mitigate or hedge said risk to facilitate quality long term returns\n",
    "- You do not want to pay for expensive, monthly programs and would rather invest in a one time analysis report of your portfolio"
   ]
  },
  {
   "cell_type": "markdown",
   "id": "3bbf1d32-232c-497f-aace-daccf441e0d3",
   "metadata": {},
   "source": [
    "## **Inputs:**\n",
    "* Stock portfolio: tickers, holding volume, average price\n",
    "* Time horizon \n",
    "* Risk tolerance (Low / near retirement or sell point, medium / typical invester with stable income. high / higher income expected in the future)\n",
    "* Desired average annual return over the time horizon\n",
    "* % current margin use\n",
    "* Avoidance options: No fossil fuels, no China stocks, etc."
   ]
  },
  {
   "cell_type": "markdown",
   "id": "9c5e26fe-a741-4f85-9f0c-bca2d9f72c6e",
   "metadata": {},
   "source": [
    "# **Risk analysis components:**"
   ]
  },
  {
   "cell_type": "markdown",
   "id": "51a28ec4-959c-4ee8-8677-e5fe2f437989",
   "metadata": {},
   "source": [
    "### **Correlation analysis**\n",
    "#### Inputs\n",
    "- Pull time 5yr price time series, or the longest length in the portfolio\n",
    "    * Note: This will not work as well for IPOs... exclude outliers more than X Stds from the next shortest time series (mention in output)   \n",
    "    \n",
    "#### Outputs\n",
    "- Output matrix into report\n",
    "- Associate correlation coefficient ranges to risk label, and recomendations\n",
    "    * What % of equity is highly correlated, % somewhat correlated, % not correlated, % inversely correlated, % strongly inversely correlated\n",
    "- Save arrays and use for recomendation algorithm at the end"
   ]
  },
  {
   "cell_type": "markdown",
   "id": "e52d1b3a-4456-477d-a21e-617cb8d4648f",
   "metadata": {},
   "source": [
    "### **Intrest rates risk analysis**\n",
    "#### Inputs\n",
    "- Calculate P/E, P/S, CAPE distribution in the portoflio\n",
    "- Calculate averages weighted by equity for the above values \n",
    "- Pull historic P/E, P/S, and CAPE where available and calculate correlation with intrest rates / liquidity \n",
    "\n",
    "#### Outputs\n",
    "- To what degree are position valuations negatively correlated with US treasury intrest rates\n",
    "    * How does correlation coefficient and R^2 compare to S&P broadly \n",
    "    * Describe comparison to market as well as correlation qualititively in a string output\n",
    "    * Make graphs showing P/E, P/S overlayed w/ intrest rates\n",
    "- To what degree are average valuations predicted to mean revert, compare to sector means as well as market means via standard deviations"
   ]
  },
  {
   "cell_type": "markdown",
   "id": "a016ff22-065d-4b43-a8e5-52702ef8d6b8",
   "metadata": {},
   "source": [
    "### **Discounted Cash flow analysis**\n",
    "Here we apply Sven's discounted cash flow model using the\n",
    "\n",
    "#### Inputs\n",
    "- User: Desired annualized return / discount rate\n",
    "- User: Time horizon (T)\n",
    "- Historic terminal multiple series -- Used to calculate probability of different terminal multiple scenarios\n",
    "- Recent earnings (quaterly and annuals) \n",
    "- Anything else in Sven's model...\n",
    "\n",
    "Fit decay curve (exponential) to annual revenue and earnings growth to estimate future growth rates within time horizon\n",
    "\n",
    "#### Outputs\n",
    "- Estimated fair value for desired return after T in optimistic, middle, and pessimistic scenarios. As well as weighted average.\n",
    "- If estimated returns are lower that expected (i.e. value after DCF analysis is less tha\n",
    "\n",
    "\n",
    "\n"
   ]
  },
  {
   "cell_type": "code",
   "execution_count": 188,
   "id": "35e2ce41-154a-4b9e-aca2-45fa9610db86",
   "metadata": {},
   "outputs": [],
   "source": [
    "# Import dependencies\n",
    "import matplotlib.pyplot as plt\n",
    "import scipy \n",
    "from scipy.optimize import curve_fit\n",
    "import scipy.stats as stats\n",
    "\n",
    "import FundamentalAnalysis as fa\n",
    "import analysis_functions\n",
    "from analysis_functions import *"
   ]
  },
  {
   "cell_type": "code",
   "execution_count": 221,
   "id": "d1b9e98c-10ee-46cf-b68f-e0cd6af74ae5",
   "metadata": {},
   "outputs": [
    {
     "name": "stdout",
     "output_type": "stream",
     "text": [
      "[57411000000 55256000000 59531000000 48351000000 45687000000 53394000000\n",
      " 39510000000 37037000000 41733000000 25922000000 14013000000  5704000000\n",
      "  4834000000  3496000000  1989000000  1335000000   276000000    69000000\n",
      "    65000000   -25000000   786000000   601000000   309000000 -1045000000\n",
      "  -816000000   424000000   310178000    86600000   530400000   309800000\n",
      "   474900000   454000000]\n"
     ]
    }
   ],
   "source": [
    "ticker = \"AAPL\"\n",
    "api_key = \"7dead7d8a15b90bbadab8eeedfa59bd0\"\n",
    "last_year = 2020\n",
    "\n",
    "grab_data = False\n",
    "\n",
    "if grab_data == True:\n",
    "    cash_flow_statement_annually = fa.cash_flow_statement(ticker, api_key, period=\"annual\")\n",
    "    cash_flow = cash_flow_statement_annually.transpose()\n",
    "    cash_flow = cash_flow.rename_axis('year')\n",
    "    cash_flow.to_csv(r'C:\\Users\\xavie\\Portfolio_Rehab\\test_data\\%s_cash_flow.csv' % ticker)\n",
    "    \n",
    "else:\n",
    "    cash_flow = pd.read_csv(r'C:\\Users\\xavie\\Portfolio_Rehab\\test_data\\%s_cash_flow.csv' % ticker)\n",
    "\n",
    "revenue_np = cash_flow['netIncome'].to_numpy()\n",
    "print(revenue_np)"
   ]
  },
  {
   "cell_type": "code",
   "execution_count": 321,
   "id": "9b4d0cac-c1bc-4723-85c1-b3a5e4699ddc",
   "metadata": {},
   "outputs": [
    {
     "name": "stdout",
     "output_type": "stream",
     "text": [
      "[ 60.99452203 -11.25248604   6.67710668  35.14047077 -14.43420609\n",
      "   5.83098037  23.12258278  -7.18113252   3.90002896]\n",
      "Annual growth mean for 2012 to 2017: 15.425081467765938\n",
      "Annual growth mean for 2017 to 2020: 6.418114895858314\n",
      "5 year growth reduction percent: 58.3916953095492\n",
      "[3.7476460946063774, 2.1883140888427755]\n"
     ]
    },
    {
     "data": {
      "image/png": "[encoded data removed]",
      "text/plain": [
       "<Figure size 432x288 with 1 Axes>"
      ]
     },
     "metadata": {
      "needs_background": "light"
     },
     "output_type": "display_data"
    }
   ],
   "source": [
    "def exponential(x, a, b, c):\n",
    "    return a*np.exp(-b * x) + c\n",
    "\n",
    "x = np.arange(last_year, last_year - 10, -1)\n",
    "y = revenue_np[:10]\n",
    "\n",
    "x_inc = x[::-1][1:] # Years increasing\n",
    "growth = []\n",
    "\n",
    "for i in range(len(y) - 1):\n",
    "    rate = ((y[i] - y[i + 1]) / y[i + 1]) * 100\n",
    "    growth.append(rate)\n",
    "\n",
    "growth_inc = growth.reverse() # Growth rate by year increasing   \n",
    "growth_array = np.array(growth)\n",
    "\n",
    "# Plot\n",
    "plt.plot(x_inc, growth_array)\n",
    "plt.ylabel('% annual revenue growth from previous year')\n",
    "print(growth_array)\n",
    "\n",
    "first = growth_array[:5].mean()\n",
    "second = growth_array[5:].mean()\n",
    "print('Annual growth mean for %s to %s: %s' % (x_inc[0], x_inc[5], first))\n",
    "print('Annual growth mean for %s to %s: %s' % (x_inc[5], x_inc[-1], second))\n",
    "\n",
    "\n",
    "drops = ((first - second) / first)\n",
    "drops_percent = drops * 100\n",
    "print('5 year growth reduction percent: %s' % drops_percent )\n",
    "\n",
    "future_rates = [second * drops, second * drops**2] # [0-5 year growth rate, 5-10 year growth rate]\n",
    "print(future_rates)"
   ]
  },
  {
   "cell_type": "code",
   "execution_count": 322,
   "id": "5853341b-7151-42bb-b0b6-68ae61a0ea28",
   "metadata": {},
   "outputs": [],
   "source": [
    "# Maybe we should just get mean growth for 5 year intervals, since the exponential fit thing is proving to be difficult to optimize and values vary widely. \n",
    "# Then we can find the % reduction from the first to the second 5 years, and propagate forward instead of a line since the line will go to zero?"
   ]
  },
  {
   "cell_type": "code",
   "execution_count": 324,
   "id": "45121be1-5efd-460c-b3c9-8e7984f7be45",
   "metadata": {},
   "outputs": [],
   "source": [
    "# Test w/ AAPL data!\n",
    "pe_data = r'C:\\Users\\xavie\\Portfolio_Rehab\\test_data\\aapl_pe_test.csv'"
   ]
  },
  {
   "cell_type": "code",
   "execution_count": 325,
   "id": "35ed102b-4d5c-4219-bc9c-fe0b686fe22d",
   "metadata": {},
   "outputs": [
    {
     "name": "stdout",
     "output_type": "stream",
     "text": [
      "Historic P/E value array:\n",
      "[38.23 35.95 27.37 35.82 35.35 27.55 19.76 22.92 18.62 16.56 15.62 12.63\n",
      " 18.45 16.23 15.6  16.68 16.01 15.58 15.93 13.09 12.84 10.43 11.26 10.32\n",
      " 10.99 13.26 14.02 13.51 14.16 13.5  11.47 12.37 10.64  8.7   9.22 10.47\n",
      " 13.04 11.8  12.57  9.92 11.85 11.43 14.28 15.49 16.1  17.54 19.87 20.92\n",
      " 21.22 17.62 13.31 11.97 18.24 28.17 25.54 37.76 34.   30.08 25.61 26.53]\n",
      "\n",
      "Pessimistic, medium, and optimistic terminal multiple values\n",
      "[10.195359855957339, 18.099499999999995, 33.907780288085306]\n"
     ]
    }
   ],
   "source": [
    "if pe_data[-4:] == '.csv':\n",
    "        df = pd.read_csv(pe_data)\n",
    "        pe_array = df['pe_ratio'].to_numpy()\n",
    "\n",
    "else:\n",
    "    pe_array = pe_data\n",
    "\n",
    "print('Historic P/E value array:')\n",
    "print(pe_array)\n",
    "\n",
    "mean_val = np.nanmean(pe_array)\n",
    "std_val = np.nanstd(pe_array)\n",
    "\n",
    "optimist = mean_val + (2 * std_val)\n",
    "pessimist = mean_val - std_val\n",
    "\n",
    "scenario_pe = [pessimist, mean_val, optimist]\n",
    "\n",
    "print()\n",
    "print('Pessimistic, medium, and optimistic terminal multiple values')\n",
    "print(scenario_pe)"
   ]
  },
  {
   "cell_type": "code",
   "execution_count": 326,
   "id": "bd40f924-6510-41c9-9de3-7ea8b98a2376",
   "metadata": {},
   "outputs": [],
   "source": [
    "def discounted_cash_value(cash_flow, discount_rate, time_horizon, growth_rates, pe_data, pe_scenarios, optimism='low'):\n",
    "    \"\"\" This function automated Sven Carlin's discounted cash flow and outputs an intrinsic value based on optimism\n",
    "    and a modeled growth rate curve.\n",
    "    Inputs: Current cash flow, discount rate aka desired annualized return (float, percent), time_horizon in years (int),\n",
    "    a curve of length len(time_horizon) modeling future growth rates, an array storing historic P/E ratios that is used\n",
    "    to calculate the range of pe_values, optimism (str) either low, medium, or high (effects scenario probabilities)\"\"\"\n",
    "\n",
    "    opt_strs = []\n",
    "\n",
    "    # Define scenario outcome probabilities for terminal multiple\n",
    "    if optimism is 'low':\n",
    "        probs = [0.3, 0.6, 0.1]  # Worst case, medium case, best case\n",
    "\n",
    "    elif optimism is 'medium':\n",
    "        probs = [0.2, 0.6, 0.2]  # Worst case, medium case, best case\n",
    "\n",
    "    elif optimism is 'high':\n",
    "        probs = [0.1, 0.6, 0.3]  # Worst case, medium case, best case\n",
    "\n",
    "    else:\n",
    "        print('Optimism parameter error: must be low, medium, or high')\n",
    "\n",
    "    # Generate a forecasted growth rate curve\n",
    "    scenarios = ['pessimistic', 'medium', 'optimistic']\n",
    "    \n",
    "    # Calculate instrinsic value for each scenario\n",
    "    values = [] # Stores the value for each scenario\n",
    "    \n",
    "    for i, scene in enumerate(scenarios):\n",
    "        future_flow = [] # Stores the estimate future cash flows for each scenario\n",
    "        future_pv = [] # Stores estimate PV values for each scenario\n",
    "    \n",
    "        term_pe = pe_scenarios[i]\n",
    "        \n",
    "        for j, t in enumerate(range(0, time_horizon)):\n",
    "            if j <= 4:\n",
    "                rate = growth_rates[0]\n",
    "            else:\n",
    "                rate = growth_rates[1]\n",
    "                \n",
    "            if scene is 'optimistic':\n",
    "                rate = rate * 2\n",
    "            \n",
    "            if j == 0:\n",
    "                future_val = cash_flow * (1 + (rate / 100))\n",
    "                \n",
    "            else:\n",
    "                future_val = future_flow[j - 1] * (1 + (rate / 100))\n",
    "\n",
    "            future_flow.append(future_val)\n",
    "            \n",
    "            exp = -t - 1\n",
    "            pv = future_val * ((1 + discount_rate)**(exp))\n",
    "            future_pv.append(pv)\n",
    "        \n",
    "        terminal_value = future_flow[-1] * term_pe\n",
    "        term_pv = terminal_value * ((1 + discount_rate)**(exp))\n",
    "        future_pv.append(term_pv)\n",
    "        \n",
    "        values.append(sum(future_pv)) # FIGURE \n",
    "        \n",
    "    # Calculate weighted instrinsic value by optimism level\n",
    "    final_val = 0\n",
    "    for i, value in enumerate(values):\n",
    "        final_val += (value * probs[i])\n",
    "    \n",
    "    # Returns a list storing the optimism weighted average instrinsic value, and another list storing each scenario value\n",
    "    return [final_val, values] "
   ]
  },
  {
   "cell_type": "code",
   "execution_count": 327,
   "id": "aa265c79-91e1-45d2-aeac-271348c1c34b",
   "metadata": {},
   "outputs": [
    {
     "name": "stdout",
     "output_type": "stream",
     "text": [
      "\n",
      "Scenario: low, 3.7476460946063774 percent growth for the first 5 years, and 2.1883140888427755 percent from 5-10\n",
      "Instrinsic value: $1405759298484.018\n",
      "Instrinsic value for a 5.0 percent annualized return is -42.149823107653575 percent +/- of the current AAPL market cap\n",
      "\n",
      "Scenario: medium, 3.7476460946063774 percent growth for the first 5 years, and 2.1883140888427755 percent from 5-10\n",
      "Instrinsic value: $1580031018656.2202\n",
      "Instrinsic value for a 5.0 percent annualized return is -34.97814738040246 percent +/- of the current AAPL market cap\n",
      "\n",
      "Scenario: high, 3.7476460946063774 percent growth for the first 5 years, and 2.1883140888427755 percent from 5-10\n",
      "Instrinsic value: $1754302738828.4224\n",
      "Instrinsic value for a 5.0 percent annualized return is -27.806471653151345 percent +/- of the current AAPL market cap\n",
      "\n",
      "Scenario: low, 5 percent growth for the first 5 years, and 3 percent from 5-10\n",
      "Instrinsic value: $1556029319925.41\n",
      "Instrinsic value for a 5.0 percent annualized return is -35.965871608007824 percent +/- of the current AAPL market cap\n",
      "\n",
      "Scenario: medium, 5 percent growth for the first 5 years, and 3 percent from 5-10\n",
      "Instrinsic value: $1774967647360.8691\n",
      "Instrinsic value for a 5.0 percent annualized return is -26.95606389461444 percent +/- of the current AAPL market cap\n",
      "\n",
      "Scenario: high, 5 percent growth for the first 5 years, and 3 percent from 5-10\n",
      "Instrinsic value: $1993905974796.3281\n",
      "Instrinsic value for a 5.0 percent annualized return is -17.946256181221067 percent +/- of the current AAPL market cap\n",
      "\n",
      "Scenario: low, 8 percent growth for the first 5 years, and 5 percent from 5-10\n",
      "Instrinsic value: $1996487897288.829\n",
      "Instrinsic value for a 5.0 percent annualized return is -17.840004226797156 percent +/- of the current AAPL market cap\n",
      "\n",
      "Scenario: medium, 8 percent growth for the first 5 years, and 5 percent from 5-10\n",
      "Instrinsic value: $2362570327729.1196\n",
      "Instrinsic value for a 5.0 percent annualized return is -2.7748836325465174 percent +/- of the current AAPL market cap\n",
      "\n",
      "Scenario: high, 8 percent growth for the first 5 years, and 5 percent from 5-10\n",
      "Instrinsic value: $2728652758169.41\n",
      "Instrinsic value for a 5.0 percent annualized return is 12.290236961704123 percent +/- of the current AAPL market cap\n",
      "\n",
      "Scenario: low, 10 percent growth for the first 5 years, and 5 percent from 5-10\n",
      "Instrinsic value: $2219043889636.7695\n",
      "Instrinsic value for a 5.0 percent annualized return is -8.681321414124712 percent +/- of the current AAPL market cap\n",
      "\n",
      "Scenario: medium, 10 percent growth for the first 5 years, and 5 percent from 5-10\n",
      "Instrinsic value: $2662917313501.535\n",
      "Instrinsic value for a 5.0 percent annualized return is 9.585074629692805 percent +/- of the current AAPL market cap\n",
      "\n",
      "Scenario: high, 10 percent growth for the first 5 years, and 5 percent from 5-10\n",
      "Instrinsic value: $3106790737366.301\n",
      "Instrinsic value for a 5.0 percent annualized return is 27.85147067351032 percent +/- of the current AAPL market cap\n",
      "\n",
      "Scenario: low, 15 percent growth for the first 5 years, and 10 percent from 5-10\n",
      "Instrinsic value: $3688459082759.767\n",
      "Instrinsic value for a 5.0 percent annualized return is 51.7884396197435 percent +/- of the current AAPL market cap\n",
      "\n",
      "Scenario: medium, 15 percent growth for the first 5 years, and 10 percent from 5-10\n",
      "Instrinsic value: $4769932026013.563\n",
      "Instrinsic value for a 5.0 percent annualized return is 96.29349901290385 percent +/- of the current AAPL market cap\n",
      "\n",
      "Scenario: high, 15 percent growth for the first 5 years, and 10 percent from 5-10\n",
      "Instrinsic value: $5851404969267.359\n",
      "Instrinsic value for a 5.0 percent annualized return is 140.79855840606416 percent +/- of the current AAPL market cap\n"
     ]
    }
   ],
   "source": [
    "test_rates = [future_rates, [5, 3], [8, 5], [10, 5], [15, 10]]\n",
    "aapl_mc = 2430000000000\n",
    "scenarios = ['low', 'medium', 'high']\n",
    "desired_rate = 0.05\n",
    "\n",
    "for rates in test_rates:\n",
    "    for opt in scenarios:\n",
    "        out = discounted_cash_value(revenue_np[0], desired_rate, 10, rates, pe_data, scenario_pe, optimism=opt)\n",
    "        print()\n",
    "        print('Scenario: %s, %s percent growth for the first 5 years, and %s percent from 5-10' % (opt, rates[0], rates[1]))\n",
    "        print('Instrinsic value: $%s' % out[0])\n",
    "        comp = ((out[0] - aapl_mc) / aapl_mc) * 100\n",
    "        print('Instrinsic value for a %s percent annualized return is %s percent +/- of the current %s market cap' % (desired_rate * 100, comp, ticker))\n"
   ]
  },
  {
   "cell_type": "code",
   "execution_count": null,
   "id": "fda38d20-b167-4227-8f40-a60951dc50cb",
   "metadata": {},
   "outputs": [],
   "source": []
  }
 ],
 "metadata": {
  "kernelspec": {
   "display_name": "Python 3",
   "language": "python",
   "name": "python3"
  },
  "language_info": {
   "codemirror_mode": {
    "name": "ipython",
    "version": 3
   },
   "file_extension": ".py",
   "mimetype": "text/x-python",
   "name": "python",
   "nbconvert_exporter": "python",
   "pygments_lexer": "ipython3",
   "version": "3.7.6"
  }
 },
 "nbformat": 4,
 "nbformat_minor": 5
}
